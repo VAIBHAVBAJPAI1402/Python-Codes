{
 "cells": [
  {
   "cell_type": "markdown",
   "metadata": {},
   "source": [
    "# CLASS keyword\n",
    "Class is a blurprint that defines a nature of a future object. From classes we can construct instances. An instance is a specified object created from a particular class.\n",
    "\n",
    "syntax:\n",
    "class Class_Name(object):\n",
    "    body\n",
    "    methods\n",
    "\n",
    "create instance:\n",
    "obj = Class_Name()\n",
    "\n",
    "Syntax of creating an attribute:\n",
    "self.attribute = something\n",
    "\n",
    "__init__() : used to initialize attributes of a class"
   ]
  },
  {
   "cell_type": "code",
   "execution_count": 23,
   "metadata": {},
   "outputs": [],
   "source": [
    "\n",
    "class Dog(object):\n",
    "    #class object attributes\n",
    "    species = 'mammal'\n",
    "    \n",
    "    def __init__(self,name,fur = True):# default parameters\n",
    "        self.name = name\n",
    "        self.fur = fur\n",
    "        \n"
   ]
  },
  {
   "cell_type": "code",
   "execution_count": 24,
   "metadata": {},
   "outputs": [
    {
     "name": "stdout",
     "output_type": "stream",
     "text": [
      "Madara\n",
      "mammal\n",
      "True\n"
     ]
    }
   ],
   "source": [
    "dog1 = Dog(name = 'Madara')\n",
    "print(dog1.name)\n",
    "print(dog1.species)\n",
    "print(dog1.fur)"
   ]
  },
  {
   "cell_type": "markdown",
   "metadata": {},
   "source": [
    "# Methods"
   ]
  },
  {
   "cell_type": "code",
   "execution_count": 30,
   "metadata": {},
   "outputs": [
    {
     "name": "stdout",
     "output_type": "stream",
     "text": [
      "Volume of circle = 1436.0266666666666\n",
      "Area of circle = 153.86\n",
      "Perimeter of circle = 43.96\n"
     ]
    }
   ],
   "source": [
    "#Find volume,area and perimeter of a circel using OOP's\n",
    "\n",
    "class Circle(object):\n",
    "    #class object attribute\n",
    "    #accessed using Classname.nam or self.name\n",
    "    pi = 3.14\n",
    "    volume = 0\n",
    "    area = 0\n",
    "    perimeter = 0\n",
    "    def __init__(self,radius=1):\n",
    "        self.radius = radius\n",
    "    def get_Volume(self):\n",
    "        return (4/3)*Circle.pi*self.radius**3\n",
    "    def get_Area(self):\n",
    "        return Circle.pi*self.radius**2\n",
    "    def get_Peri(self):\n",
    "        return 2*Circle.pi*self.radius\n",
    "    \n",
    "pen = Circle(radius = 7)\n",
    "print('Volume of circle =',pen.get_Volume())\n",
    "print('Area of circle =',pen.get_Area())\n",
    "print('Perimeter of circle =',pen.get_Peri())"
   ]
  },
  {
   "cell_type": "code",
   "execution_count": null,
   "metadata": {},
   "outputs": [],
   "source": []
  }
 ],
 "metadata": {
  "kernelspec": {
   "display_name": "Python 3",
   "language": "python",
   "name": "python3"
  },
  "language_info": {
   "codemirror_mode": {
    "name": "ipython",
    "version": 3
   },
   "file_extension": ".py",
   "mimetype": "text/x-python",
   "name": "python",
   "nbconvert_exporter": "python",
   "pygments_lexer": "ipython3",
   "version": "3.7.3"
  }
 },
 "nbformat": 4,
 "nbformat_minor": 2
}
