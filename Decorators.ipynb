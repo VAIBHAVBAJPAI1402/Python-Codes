{
 "cells": [
  {
   "cell_type": "markdown",
   "metadata": {},
   "source": [
    "# PYTHON DECORATORS"
   ]
  },
  {
   "cell_type": "code",
   "execution_count": 1,
   "metadata": {},
   "outputs": [
    {
     "data": {
      "text/plain": [
       "1"
      ]
     },
     "execution_count": 1,
     "metadata": {},
     "output_type": "execute_result"
    }
   ],
   "source": [
    "def func():\n",
    "    return 1\n",
    "#check for local and global varibales using locals() and globals()\n",
    "func()"
   ]
  },
  {
   "cell_type": "code",
   "execution_count": 14,
   "metadata": {},
   "outputs": [
    {
     "name": "stdout",
     "output_type": "stream",
     "text": [
      "{'l': [1, 2, 3]}\n",
      "--------------\n"
     ]
    },
    {
     "data": {
      "text/plain": [
       "'hello this is a string'"
      ]
     },
     "execution_count": 14,
     "metadata": {},
     "output_type": "execute_result"
    }
   ],
   "source": [
    "s = 'hello this is a string'\n",
    "def print_ms():\n",
    "    l = [1,2,3]\n",
    "    print(locals())\n",
    "print_ms()\n",
    "print('--------------')\n",
    "globals().keys() #this returns a dictionary keys\n",
    "#find our global variable\n",
    "globals()['s']"
   ]
  },
  {
   "cell_type": "code",
   "execution_count": 15,
   "metadata": {},
   "outputs": [
    {
     "name": "stdout",
     "output_type": "stream",
     "text": [
      "Vaibhav\n"
     ]
    }
   ],
   "source": [
    "def hello(name='Vaibhav'):\n",
    "    return name\n",
    "greet = hello\n",
    "print(greet())"
   ]
  },
  {
   "cell_type": "code",
   "execution_count": 16,
   "metadata": {},
   "outputs": [],
   "source": [
    "#if we delete hello from memory and then call greet\n",
    "del hello"
   ]
  },
  {
   "cell_type": "code",
   "execution_count": 17,
   "metadata": {},
   "outputs": [
    {
     "ename": "NameError",
     "evalue": "name 'hello' is not defined",
     "output_type": "error",
     "traceback": [
      "\u001b[1;31m---------------------------------------------------------------------------\u001b[0m",
      "\u001b[1;31mNameError\u001b[0m                                 Traceback (most recent call last)",
      "\u001b[1;32m<ipython-input-17-a75d7781aaeb>\u001b[0m in \u001b[0;36m<module>\u001b[1;34m\u001b[0m\n\u001b[1;32m----> 1\u001b[1;33m \u001b[0mhello\u001b[0m\u001b[1;33m(\u001b[0m\u001b[1;33m)\u001b[0m\u001b[1;33m\u001b[0m\u001b[1;33m\u001b[0m\u001b[0m\n\u001b[0m",
      "\u001b[1;31mNameError\u001b[0m: name 'hello' is not defined"
     ]
    }
   ],
   "source": [
    "hello()"
   ]
  },
  {
   "cell_type": "code",
   "execution_count": 18,
   "metadata": {},
   "outputs": [
    {
     "data": {
      "text/plain": [
       "'Vaibhav'"
      ]
     },
     "execution_count": 18,
     "metadata": {},
     "output_type": "execute_result"
    }
   ],
   "source": [
    "greet()"
   ]
  },
  {
   "cell_type": "markdown",
   "metadata": {},
   "source": [
    "# FUNCTIONS WITHIN FUNCTIONS"
   ]
  },
  {
   "cell_type": "code",
   "execution_count": 20,
   "metadata": {},
   "outputs": [
    {
     "name": "stdout",
     "output_type": "stream",
     "text": [
      "This is hello function\n",
      "\tThis is greet function inside the hello function\n",
      "\tThis is welcome function inside the hello function\n",
      "This is inside hello function\n"
     ]
    }
   ],
   "source": [
    "def hello(name='Vaibhav'):\n",
    "    print('This is hello function')\n",
    "    def greet():\n",
    "        return '\\tThis is greet function inside the hello function'\n",
    "    def welcome():\n",
    "        return '\\tThis is welcome function inside the hello function'\n",
    "    print(greet())\n",
    "    print(welcome())\n",
    "    print('This is inside hello function')\n",
    "\n",
    "hello()"
   ]
  },
  {
   "cell_type": "code",
   "execution_count": 28,
   "metadata": {},
   "outputs": [
    {
     "name": "stdout",
     "output_type": "stream",
     "text": [
      "This is hello function\n",
      "\tThis is greet function inside the hello function\n"
     ]
    }
   ],
   "source": [
    "#how to call welcome function\n",
    "def hello(name='Vaibhav'):\n",
    "    print('This is hello function')\n",
    "    def greet():\n",
    "        return '\\tThis is greet function inside the hello function'\n",
    "    def welcome():\n",
    "        return '\\tThis is welcome function inside the hello function'\n",
    "    \n",
    "    if(name=='greet'):\n",
    "        return greet()\n",
    "    else:\n",
    "        return welcome()\n",
    "    \n",
    "print(hello('greet'))"
   ]
  },
  {
   "cell_type": "markdown",
   "metadata": {},
   "source": [
    "# FUNCTIONS AS ARGUEMENTS"
   ]
  },
  {
   "cell_type": "code",
   "execution_count": 31,
   "metadata": {},
   "outputs": [
    {
     "name": "stdout",
     "output_type": "stream",
     "text": [
      "Other code\n",
      "Hello Vaibhav\n",
      "None\n"
     ]
    }
   ],
   "source": [
    "def hello():\n",
    "    print('Hello Vaibhav')\n",
    "def other(func):\n",
    "    print('Other code')\n",
    "    print(func())\n",
    "\n",
    "other(hello)"
   ]
  },
  {
   "cell_type": "code",
   "execution_count": 32,
   "metadata": {},
   "outputs": [
    {
     "name": "stdout",
     "output_type": "stream",
     "text": [
      "Wrap function\n",
      "This function needs a decorator\n",
      "End of func()\n"
     ]
    }
   ],
   "source": [
    "def new_decorator(func):\n",
    "    def wrap_func():\n",
    "        print('Wrap function')\n",
    "        func()\n",
    "        print('End of func()')\n",
    "    return wrap_func\n",
    "def func_decorator():\n",
    "    print('This function needs a decorator')\n",
    "func_decorator = new_decorator(func_decorator)\n",
    "func_decorator()"
   ]
  },
  {
   "cell_type": "code",
   "execution_count": 33,
   "metadata": {},
   "outputs": [
    {
     "name": "stdout",
     "output_type": "stream",
     "text": [
      "Wrap function\n",
      "This function needs a decorator\n",
      "End of func()\n"
     ]
    }
   ],
   "source": [
    "#@ symbol is used to define a decorator\n",
    "@new_decorator\n",
    "def func_decorator():\n",
    "    print('This function needs a decorator')\n",
    "func_decorator()"
   ]
  }
 ],
 "metadata": {
  "kernelspec": {
   "display_name": "Python 3",
   "language": "python",
   "name": "python3"
  },
  "language_info": {
   "codemirror_mode": {
    "name": "ipython",
    "version": 3
   },
   "file_extension": ".py",
   "mimetype": "text/x-python",
   "name": "python",
   "nbconvert_exporter": "python",
   "pygments_lexer": "ipython3",
   "version": "3.7.3"
  }
 },
 "nbformat": 4,
 "nbformat_minor": 2
}
