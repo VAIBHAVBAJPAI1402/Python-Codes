{
 "cells": [
  {
   "cell_type": "markdown",
   "metadata": {},
   "source": [
    "# Write a program using OOP's to find slope and distance between 2 cordinates. Cordinates are given in the form of tuples "
   ]
  },
  {
   "cell_type": "code",
   "execution_count": 1,
   "metadata": {},
   "outputs": [
    {
     "name": "stdout",
     "output_type": "stream",
     "text": [
      "Slope of line between the cordinates = 1.6\n",
      "Distance between cordinates =\n"
     ]
    }
   ],
   "source": [
    "class Graph(object):\n",
    "    #class object attributes\n",
    "    \n",
    "    #class methods\n",
    "    def __init__(self,c1,c2):\n",
    "        self.x1 = c1[0]\n",
    "        self.y1 = c1[1]\n",
    "        self.x2 = c2[0]\n",
    "        self.y2 = c2[1]\n",
    "    def slope(self):\n",
    "        m = (self.y2-self.y1)/(self.x2-self.x1)\n",
    "        print('Slope of line between the cordinates =',m)\n",
    "    def distance(self):\n",
    "        print('Distance between cordinates =')\n",
    "        \n",
    "cordinate1 = (3,2)\n",
    "cordinate2 = (8,10)\n",
    "obj1 = Graph(cordinate1,cordinate2)\n",
    "obj1.slope()\n",
    "obj1.distance()"
   ]
  },
  {
   "cell_type": "markdown",
   "metadata": {},
   "source": [
    "# Write a program using OOP's to determine volume and surface area of the cylinder"
   ]
  },
  {
   "cell_type": "code",
   "execution_count": 3,
   "metadata": {},
   "outputs": [
    {
     "name": "stdout",
     "output_type": "stream",
     "text": [
      "Volume of cylinder = 1025.7333333333333\n",
      "Surface area of cylinder = 219.8\n"
     ]
    }
   ],
   "source": [
    "class Cylinder(object):\n",
    "    #class object attributes\n",
    "    pi = 3.14\n",
    "    #class members\n",
    "    def __init__(self,height=1,radius=1):\n",
    "        self.height = height\n",
    "        self.radius = radius\n",
    "    def volume(self):\n",
    "        v = (4/3)*Cylinder.pi*self.height*self.radius**2\n",
    "        print('Volume of cylinder =',v)\n",
    "    def surfaceArea(self):\n",
    "        a = 2*Cylinder.pi*self.radius*self.height\n",
    "        print('Surface area of cylinder =',a)\n",
    "        \n",
    "obj = Cylinder(5,7)\n",
    "obj.volume()\n",
    "obj.surfaceArea()"
   ]
  }
 ],
 "metadata": {
  "kernelspec": {
   "display_name": "Python 3",
   "language": "python",
   "name": "python3"
  },
  "language_info": {
   "codemirror_mode": {
    "name": "ipython",
    "version": 3
   },
   "file_extension": ".py",
   "mimetype": "text/x-python",
   "name": "python",
   "nbconvert_exporter": "python",
   "pygments_lexer": "ipython3",
   "version": "3.7.3"
  }
 },
 "nbformat": 4,
 "nbformat_minor": 2
}
