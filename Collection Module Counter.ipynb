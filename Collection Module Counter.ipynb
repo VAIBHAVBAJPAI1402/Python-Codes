{
 "cells": [
  {
   "cell_type": "markdown",
   "metadata": {},
   "source": [
    "# COLLECTION MODULE"
   ]
  },
  {
   "cell_type": "markdown",
   "metadata": {},
   "source": [
    "Collection module implements some specialized container datatypes providing alternatives to Python's built-in general purpose containers"
   ]
  },
  {
   "cell_type": "markdown",
   "metadata": {},
   "source": [
    "# Counter\n",
    "#dictionary subclass the helps count hashable obejcts"
   ]
  },
  {
   "cell_type": "code",
   "execution_count": 4,
   "metadata": {},
   "outputs": [
    {
     "data": {
      "text/plain": [
       "Counter({1: 4, 12: 1, 2: 5, 3: 3, 4: 4, 5: 3})"
      ]
     },
     "execution_count": 4,
     "metadata": {},
     "output_type": "execute_result"
    }
   ],
   "source": [
    "from collections import Counter\n",
    "#its elemts are stored as keys and thier count is stored as value\n",
    "l = [1,1,1,1,12,2,2,2,2,2,3,3,3,4,4,4,4,5,5,5]\n",
    "Counter(l)"
   ]
  },
  {
   "cell_type": "code",
   "execution_count": 5,
   "metadata": {},
   "outputs": [
    {
     "data": {
      "text/plain": [
       "Counter({'a': 7, 's': 12, 'v': 4, 'b': 12})"
      ]
     },
     "execution_count": 5,
     "metadata": {},
     "output_type": "execute_result"
    }
   ],
   "source": [
    "s = 'assssssvavavavaabsbsbsbsbsbbbabbbbs'\n",
    "Counter(s)"
   ]
  },
  {
   "cell_type": "code",
   "execution_count": 7,
   "metadata": {},
   "outputs": [
    {
     "data": {
      "text/plain": [
       "Counter({'How': 1,\n",
       "         'many': 1,\n",
       "         'times': 1,\n",
       "         'does': 1,\n",
       "         'each': 1,\n",
       "         'word': 2,\n",
       "         'show': 1,\n",
       "         'up': 3,\n",
       "         'in': 1,\n",
       "         'this': 1,\n",
       "         'sentence': 1,\n",
       "         'shoe': 1})"
      ]
     },
     "execution_count": 7,
     "metadata": {},
     "output_type": "execute_result"
    }
   ],
   "source": [
    "#count how many times a word shows up in a sentence\n",
    "s = 'How many times does each word show up in this sentence word shoe up up'\n",
    "words = s.split()\n",
    "Counter(words)"
   ]
  },
  {
   "cell_type": "code",
   "execution_count": 11,
   "metadata": {},
   "outputs": [
    {
     "data": {
      "text/plain": [
       "[('up', 3), ('word', 2)]"
      ]
     },
     "execution_count": 11,
     "metadata": {},
     "output_type": "execute_result"
    }
   ],
   "source": [
    "#methods of counter\n",
    "c = Counter(words)\n",
    "c.most_common(2)\n",
    "#prints the 2 most common words"
   ]
  },
  {
   "cell_type": "code",
   "execution_count": 17,
   "metadata": {},
   "outputs": [
    {
     "name": "stdout",
     "output_type": "stream",
     "text": [
      "Enter the string here: Hello this is me and I am a friend of you saying hello\n",
      "\n",
      "5 most common words are =  [('Hello', 1), ('this', 1), ('is', 1), ('me', 1), ('and', 1)]\n",
      "Total number of words =  13\n"
     ]
    }
   ],
   "source": [
    "#find total number of words in a string and 5 most common words and find total number of words in the strring\n",
    "st = input('Enter the string here: ')\n",
    "print()\n",
    "words = st.split()\n",
    "d1 = Counter(words)\n",
    "print('5 most common words are = ',d1.most_common(5))\n",
    "print('Total number of words = ',sum(d1.values()))"
   ]
  },
  {
   "cell_type": "code",
   "execution_count": 18,
   "metadata": {},
   "outputs": [
    {
     "name": "stdout",
     "output_type": "stream",
     "text": [
      "Counter({'Hello': 1, 'this': 1, 'is': 1, 'me': 1, 'and': 1, 'I': 1, 'am': 1, 'a': 1, 'friend': 1, 'of': 1, 'you': 1, 'saying': 1, 'hello': 1})\n"
     ]
    }
   ],
   "source": [
    "#reset all count\n",
    "#d1.clear()\n",
    "print(d1)"
   ]
  },
  {
   "cell_type": "code",
   "execution_count": 25,
   "metadata": {},
   "outputs": [
    {
     "name": "stdout",
     "output_type": "stream",
     "text": [
      "[('hello', 1), ('saying', 1), ('you', 1), ('of', 1), ('friend', 1)]\n",
      "Counter({'Hello': 1, 'this': 1, 'is': 1, 'me': 1, 'and': 1, 'I': 1, 'am': 1, 'a': 1, 'friend': 1, 'of': 1, 'you': 1, 'saying': 1, 'hello': 1})\n"
     ]
    }
   ],
   "source": [
    "#count n least common elements\n",
    "#d1.most_common()[:-n-1:-1]\n",
    "print(d1.most_common()[:-5-1:-1])\n",
    "#d1 += Counter()\n",
    "print(d1)"
   ]
  }
 ],
 "metadata": {
  "kernelspec": {
   "display_name": "Python 3",
   "language": "python",
   "name": "python3"
  },
  "language_info": {
   "codemirror_mode": {
    "name": "ipython",
    "version": 3
   },
   "file_extension": ".py",
   "mimetype": "text/x-python",
   "name": "python",
   "nbconvert_exporter": "python",
   "pygments_lexer": "ipython3",
   "version": "3.7.3"
  }
 },
 "nbformat": 4,
 "nbformat_minor": 2
}
