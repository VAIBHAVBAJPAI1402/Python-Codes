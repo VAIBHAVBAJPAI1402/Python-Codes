{
 "cells": [
  {
   "cell_type": "markdown",
   "metadata": {},
   "source": [
    "# NESTED STATEMENTS AND SCOPE"
   ]
  },
  {
   "cell_type": "code",
   "execution_count": 1,
   "metadata": {},
   "outputs": [
    {
     "name": "stdout",
     "output_type": "stream",
     "text": [
      "25\n"
     ]
    }
   ],
   "source": [
    "#local variables\n",
    "def display():\n",
    "    num=25\n",
    "    print(num)\n",
    "display()"
   ]
  },
  {
   "cell_type": "code",
   "execution_count": 2,
   "metadata": {},
   "outputs": [
    {
     "name": "stdout",
     "output_type": "stream",
     "text": [
      "Hello Vaibhav\n"
     ]
    }
   ],
   "source": [
    "#enclosing function locals\n",
    "def display():\n",
    "    name = 'Vaibhav'\n",
    "    #enclosing function\n",
    "    def hello():\n",
    "        print('Hello '+name)\n",
    "    hello()\n",
    "    \n",
    "display()"
   ]
  },
  {
   "cell_type": "code",
   "execution_count": 3,
   "metadata": {},
   "outputs": [
    {
     "data": {
      "text/plain": [
       "7"
      ]
     },
     "execution_count": 3,
     "metadata": {},
     "output_type": "execute_result"
    }
   ],
   "source": [
    "#Built in\n",
    "str = 'Vaibhav'\n",
    "len(str)"
   ]
  },
  {
   "cell_type": "code",
   "execution_count": 5,
   "metadata": {},
   "outputs": [
    {
     "name": "stdout",
     "output_type": "stream",
     "text": [
      "Vaibhav\n",
      "Bajpai\n"
     ]
    }
   ],
   "source": [
    "#global\n",
    "name = 'Vaibhav'\n",
    "def lastname():\n",
    "    name = 'Bajpai'\n",
    "    print(name)\n",
    "\n",
    "print(name)\n",
    "lastname()"
   ]
  },
  {
   "cell_type": "code",
   "execution_count": 6,
   "metadata": {},
   "outputs": [
    {
     "name": "stdout",
     "output_type": "stream",
     "text": [
      "Using global x\n",
      "Initial value of x= 50\n",
      "Updated value of x = 2\n",
      "Value of x in main = 2\n"
     ]
    }
   ],
   "source": [
    "#global varibales are declared using 'global' keyword\n",
    "x = 50\n",
    "def func():\n",
    "    global x\n",
    "    print('Using global x')\n",
    "    print('Initial value of x=',x)\n",
    "    x = 2\n",
    "    print('Updated value of x =',x)\n",
    "\n",
    "func()\n",
    "print('Value of x in main =',x)"
   ]
  }
 ],
 "metadata": {
  "kernelspec": {
   "display_name": "Python 3",
   "language": "python",
   "name": "python3"
  },
  "language_info": {
   "codemirror_mode": {
    "name": "ipython",
    "version": 3
   },
   "file_extension": ".py",
   "mimetype": "text/x-python",
   "name": "python",
   "nbconvert_exporter": "python",
   "pygments_lexer": "ipython3",
   "version": "3.7.3"
  }
 },
 "nbformat": 4,
 "nbformat_minor": 2
}
