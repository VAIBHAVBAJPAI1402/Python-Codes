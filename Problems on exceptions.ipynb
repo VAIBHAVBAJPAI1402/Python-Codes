{
 "cells": [
  {
   "cell_type": "markdown",
   "metadata": {},
   "source": [
    "# Exception Assessment and Problems"
   ]
  },
  {
   "cell_type": "markdown",
   "metadata": {},
   "source": [
    "# 1. Handle the exception of squaring the numbers in a list when element in list is not a number"
   ]
  },
  {
   "cell_type": "code",
   "execution_count": 1,
   "metadata": {},
   "outputs": [
    {
     "name": "stdout",
     "output_type": "stream",
     "text": [
      "Square of number = 1\n",
      "Square of number = 4\n",
      "Incorrect object type! Cannot square this type of object\n",
      "End of Program\n"
     ]
    }
   ],
   "source": [
    "l = [1,2,'a']\n",
    "try:\n",
    "    for i in l:\n",
    "        print('Square of number =',i**2)\n",
    "except:\n",
    "    print('Incorrect object type! Cannot square this type of object')\n",
    "else:\n",
    "    print('Operation Completed')\n",
    "finally:\n",
    "    print('End of Program')"
   ]
  },
  {
   "cell_type": "markdown",
   "metadata": {},
   "source": [
    "# 2. Handle divide by zero error"
   ]
  },
  {
   "cell_type": "code",
   "execution_count": 4,
   "metadata": {},
   "outputs": [
    {
     "name": "stdout",
     "output_type": "stream",
     "text": [
      "Enter numerator = 5\n",
      "Enter denominator = 0\n",
      "Division Error\n",
      "All Done!\n"
     ]
    }
   ],
   "source": [
    "num1 = int(input('Enter numerator = '))\n",
    "num2 = int(input('Enter denominator = '))\n",
    "try:\n",
    "    div = num1/num2\n",
    "except:\n",
    "    print('Division Error')\n",
    "else:\n",
    "    print('Division =',div)\n",
    "finally:\n",
    "    print('All Done!')"
   ]
  },
  {
   "cell_type": "markdown",
   "metadata": {},
   "source": [
    "# 3. WAP that accepts an integer and prints the square of it"
   ]
  },
  {
   "cell_type": "code",
   "execution_count": 4,
   "metadata": {},
   "outputs": [
    {
     "name": "stdout",
     "output_type": "stream",
     "text": [
      "Enter the number = five\n",
      "Cannot perform sqaure operating on this object\n",
      "Enter the number = five\n",
      "Cannot perform sqaure operating on this object\n",
      "Enter the number = 123.55\n",
      "Cannot perform sqaure operating on this object\n",
      "Enter the number = 18\n",
      "Square = 324\n"
     ]
    }
   ],
   "source": [
    "def square():\n",
    "    \n",
    "    while True:\n",
    "        try:\n",
    "            num = int(input('Enter the number = '))\n",
    "            sq = num**2\n",
    "        except:\n",
    "            print('Cannot perform sqaure operating on this object')\n",
    "            continue\n",
    "        else:\n",
    "            print('Square =',sq)\n",
    "            break\n",
    "\n",
    "square()\n",
    "        \n",
    "    "
   ]
  }
 ],
 "metadata": {
  "kernelspec": {
   "display_name": "Python 3",
   "language": "python",
   "name": "python3"
  },
  "language_info": {
   "codemirror_mode": {
    "name": "ipython",
    "version": 3
   },
   "file_extension": ".py",
   "mimetype": "text/x-python",
   "name": "python",
   "nbconvert_exporter": "python",
   "pygments_lexer": "ipython3",
   "version": "3.7.3"
  }
 },
 "nbformat": 4,
 "nbformat_minor": 2
}
