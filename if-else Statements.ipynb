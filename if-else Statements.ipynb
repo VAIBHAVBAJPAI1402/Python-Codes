{
 "cells": [
  {
   "cell_type": "markdown",
   "metadata": {},
   "source": [
    "# IF-ELIF-ELSE STATEMENTS"
   ]
  },
  {
   "cell_type": "code",
   "execution_count": 6,
   "metadata": {},
   "outputs": [
    {
     "name": "stdout",
     "output_type": "stream",
     "text": [
      "a : 2, b : 3\n"
     ]
    }
   ],
   "source": [
    "#initialize a and b as 1\n",
    "#assign a=2 and b=3 if a is grater than or equal to b\n",
    "a = b =1\n",
    "if a>=b:\n",
    "    a=2\n",
    "    b=3\n",
    "print(\"a : {x}, b : {y}\".format(x=a,y=b))"
   ]
  },
  {
   "cell_type": "code",
   "execution_count": 8,
   "metadata": {},
   "outputs": [
    {
     "name": "stdout",
     "output_type": "stream",
     "text": [
      "Welcome to the bank\n"
     ]
    }
   ],
   "source": [
    "loc = 'Bank'\n",
    "if loc == 'Auto Shop':\n",
    "    print('Welcome to auto shop')\n",
    "elif loc == 'Bank':\n",
    "    print('Welcome to the bank')\n",
    "else:\n",
    "    print('No matches')"
   ]
  },
  {
   "cell_type": "code",
   "execution_count": 9,
   "metadata": {},
   "outputs": [
    {
     "name": "stdout",
     "output_type": "stream",
     "text": [
      "Hello Ram\n"
     ]
    }
   ],
   "source": [
    "person = 'Ram'\n",
    "if person == 'Ram':\n",
    "    print('Hello Ram')\n",
    "else:\n",
    "    print(\"what's your name\")\n"
   ]
  }
 ],
 "metadata": {
  "kernelspec": {
   "display_name": "Python 3",
   "language": "python",
   "name": "python3"
  },
  "language_info": {
   "codemirror_mode": {
    "name": "ipython",
    "version": 3
   },
   "file_extension": ".py",
   "mimetype": "text/x-python",
   "name": "python",
   "nbconvert_exporter": "python",
   "pygments_lexer": "ipython3",
   "version": "3.7.3"
  }
 },
 "nbformat": 4,
 "nbformat_minor": 2
}
