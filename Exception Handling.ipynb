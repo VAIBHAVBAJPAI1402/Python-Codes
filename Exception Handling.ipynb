{
 "cells": [
  {
   "cell_type": "markdown",
   "metadata": {},
   "source": [
    "# EXCEPTION HANDLING\n",
    "try(), except and finally are used for exception handling"
   ]
  },
  {
   "cell_type": "code",
   "execution_count": 1,
   "metadata": {},
   "outputs": [
    {
     "name": "stdout",
     "output_type": "stream",
     "text": [
      "TypeError Occured\n"
     ]
    }
   ],
   "source": [
    "#TypeError Handling\n",
    "\n",
    "try:\n",
    "    2 + 's'\n",
    "except TypeError:\n",
    "    print('TypeError Occured')\n",
    "else:\n",
    "    print('Good to go')"
   ]
  },
  {
   "cell_type": "code",
   "execution_count": 2,
   "metadata": {},
   "outputs": [
    {
     "name": "stdout",
     "output_type": "stream",
     "text": [
      "Error writing to the file\n",
      "Error Handled\n"
     ]
    }
   ],
   "source": [
    "#File exceptions\n",
    "\n",
    "try:\n",
    "    f = open('testcase.txt','r')\n",
    "    f.write('Hello! This is Robin')\n",
    "except:\n",
    "    print('Error writing to the file')\n",
    "finally:\n",
    "    print('Error Handled')"
   ]
  },
  {
   "cell_type": "code",
   "execution_count": 8,
   "metadata": {},
   "outputs": [
    {
     "name": "stdout",
     "output_type": "stream",
     "text": [
      "Enter any number : five\n",
      "Please enter an integer only\n",
      "Finally Block Executed\n"
     ]
    }
   ],
   "source": [
    "def askint():\n",
    "    try:\n",
    "        num = int(input('Enter any number : '))\n",
    "    except:\n",
    "        print('Please enter an integer only')\n",
    "    else:\n",
    "        print(num)\n",
    "    finally:\n",
    "        print('Finally Block Executed')\n",
    "    \n",
    "askint()"
   ]
  }
 ],
 "metadata": {
  "kernelspec": {
   "display_name": "Python 3",
   "language": "python",
   "name": "python3"
  },
  "language_info": {
   "codemirror_mode": {
    "name": "ipython",
    "version": 3
   },
   "file_extension": ".py",
   "mimetype": "text/x-python",
   "name": "python",
   "nbconvert_exporter": "python",
   "pygments_lexer": "ipython3",
   "version": "3.7.3"
  }
 },
 "nbformat": 4,
 "nbformat_minor": 2
}
