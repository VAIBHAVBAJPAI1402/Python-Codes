{
 "cells": [
  {
   "cell_type": "markdown",
   "metadata": {},
   "source": [
    "# SWITCH "
   ]
  },
  {
   "cell_type": "raw",
   "metadata": {},
   "source": [
    "Unlike other languages, Python does not have a Switch case statement.\n",
    "Instead, it uses .get() method to achieve this task"
   ]
  },
  {
   "cell_type": "code",
   "execution_count": 2,
   "metadata": {},
   "outputs": [
    {
     "name": "stdout",
     "output_type": "stream",
     "text": [
      "Enter any number between 0 and 2: 2\n",
      "two\n"
     ]
    }
   ],
   "source": [
    "def num_to_sting(num):\n",
    "    switcher = {\n",
    "        0:'zero',\n",
    "        1:'one',\n",
    "        2:'two'\n",
    "    }\n",
    "    return switcher.get(num)\n",
    "a = int(input('Enter any number between 0 and 2: '))\n",
    "print(num_to_sting(a))"
   ]
  }
 ],
 "metadata": {
  "kernelspec": {
   "display_name": "Python 3",
   "language": "python",
   "name": "python3"
  },
  "language_info": {
   "codemirror_mode": {
    "name": "ipython",
    "version": 3
   },
   "file_extension": ".py",
   "mimetype": "text/x-python",
   "name": "python",
   "nbconvert_exporter": "python",
   "pygments_lexer": "ipython3",
   "version": "3.7.3"
  }
 },
 "nbformat": 4,
 "nbformat_minor": 2
}
