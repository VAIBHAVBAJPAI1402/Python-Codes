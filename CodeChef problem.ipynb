{
 "cells": [
  {
   "cell_type": "markdown",
   "metadata": {},
   "source": [
    "Chef has a string S with length N. He needs to find the number of indices i(1<=i<=N-1) such that the i-th character of this string of this string is a consonent and the i+1 character is a vowel"
   ]
  },
  {
   "cell_type": "code",
   "execution_count": 17,
   "metadata": {},
   "outputs": [
    {
     "name": "stdout",
     "output_type": "stream",
     "text": [
      "Enter the string = Vaibhav\n",
      "0 - V\n",
      "4 - h\n"
     ]
    }
   ],
   "source": [
    "S = input('Enter the string = ')\n",
    "lst = ['a','e','i','o','u']\n",
    "N = len(S)\n",
    "for i in range(N-1):\n",
    "    if S[i] not in lst and S[i+1] in lst:\n",
    "        print(i,'-',S[i])\n"
   ]
  }
 ],
 "metadata": {
  "kernelspec": {
   "display_name": "Python 3",
   "language": "python",
   "name": "python3"
  },
  "language_info": {
   "codemirror_mode": {
    "name": "ipython",
    "version": 3
   },
   "file_extension": ".py",
   "mimetype": "text/x-python",
   "name": "python",
   "nbconvert_exporter": "python",
   "pygments_lexer": "ipython3",
   "version": "3.7.3"
  }
 },
 "nbformat": 4,
 "nbformat_minor": 2
}
