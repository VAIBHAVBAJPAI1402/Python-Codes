{
 "cells": [
  {
   "cell_type": "markdown",
   "metadata": {},
   "source": [
    "# ENUMERATE()"
   ]
  },
  {
   "cell_type": "markdown",
   "metadata": {},
   "source": [
    "This method takes a sequence as an arguement anad returns the (count,item) in the form of a tuple\n",
    "Enumerate takes 2 arguements: first is the sequence for eg list,tuple,etc; second is starting of counting\n",
    "by default counting starts from 0"
   ]
  },
  {
   "cell_type": "code",
   "execution_count": 1,
   "metadata": {},
   "outputs": [
    {
     "name": "stdout",
     "output_type": "stream",
     "text": [
      "0 - a\n",
      "1 - b\n",
      "2 - c\n"
     ]
    }
   ],
   "source": [
    "#suppose you want to print the index and item at same time, normally you would add a count varibale\n",
    "count = 0\n",
    "l = ['a','b','c']\n",
    "for i in l:\n",
    "    print(count,'-',i)\n",
    "    count +=1"
   ]
  },
  {
   "cell_type": "code",
   "execution_count": 2,
   "metadata": {},
   "outputs": [
    {
     "name": "stdout",
     "output_type": "stream",
     "text": [
      "0 - a\n",
      "1 - b\n",
      "2 - c\n"
     ]
    }
   ],
   "source": [
    "#we can also achieve this using enumerate() function\n",
    "for (count,item) in enumerate(l):\n",
    "    print(count,'-',item)"
   ]
  },
  {
   "cell_type": "code",
   "execution_count": 3,
   "metadata": {},
   "outputs": [
    {
     "name": "stdout",
     "output_type": "stream",
     "text": [
      "0 - a\n",
      "1 - b\n"
     ]
    }
   ],
   "source": [
    "#another example of enumerate()\n",
    "for count,item in enumerate(l):\n",
    "    if count>=2:\n",
    "        break\n",
    "    else:\n",
    "        print(count,'-',item)"
   ]
  },
  {
   "cell_type": "code",
   "execution_count": 1,
   "metadata": {},
   "outputs": [
    {
     "name": "stdout",
     "output_type": "stream",
     "text": [
      "[(0, 'hello'), (1, 'this'), (2, 'is'), (3, 'me')]\n",
      "[(2, 'welcome'), (3, 'back'), (4, 'home')]\n"
     ]
    }
   ],
   "source": [
    "#one can also change the starting of count from 0 to any other value\n",
    "l1 = ['hello','this','is','me']\n",
    "l2 = ['welcome','back','home']\n",
    "enum1 = list(enumerate(l1))\n",
    "enum2 = list(enumerate(l2,2))  #changing starting index from 0 to 2\n",
    "print(enum1)\n",
    "print(enum2)"
   ]
  },
  {
   "cell_type": "code",
   "execution_count": null,
   "metadata": {},
   "outputs": [],
   "source": []
  }
 ],
 "metadata": {
  "kernelspec": {
   "display_name": "Python 3",
   "language": "python",
   "name": "python3"
  },
  "language_info": {
   "codemirror_mode": {
    "name": "ipython",
    "version": 3
   },
   "file_extension": ".py",
   "mimetype": "text/x-python",
   "name": "python",
   "nbconvert_exporter": "python",
   "pygments_lexer": "ipython3",
   "version": "3.7.3"
  }
 },
 "nbformat": 4,
 "nbformat_minor": 2
}
