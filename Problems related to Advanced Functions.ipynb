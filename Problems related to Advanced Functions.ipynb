{
 "cells": [
  {
   "cell_type": "markdown",
   "metadata": {},
   "source": [
    "# ADVANCED FUNCTIONS BASED QUESTIONS"
   ]
  },
  {
   "cell_type": "markdown",
   "metadata": {},
   "source": [
    "# 1. Use map to crate a function which finds the length of each word in the phrase and return the values in the list"
   ]
  },
  {
   "cell_type": "code",
   "execution_count": 12,
   "metadata": {},
   "outputs": [
    {
     "name": "stdout",
     "output_type": "stream",
     "text": [
      "[3, 4, 3, 3, 5, 2, 4, 6]\n"
     ]
    }
   ],
   "source": [
    "def words_length(phrase):\n",
    "    print(list(map(len,phrase.split(' '))))\n",
    "words_length('How long are the words in this phrase')"
   ]
  },
  {
   "cell_type": "markdown",
   "metadata": {},
   "source": [
    "# 2. Use reduce to take a list of digits and returns the number that they correspond to. Do not convert the integers to strings"
   ]
  },
  {
   "cell_type": "code",
   "execution_count": 16,
   "metadata": {},
   "outputs": [
    {
     "name": "stdout",
     "output_type": "stream",
     "text": [
      "34321\n"
     ]
    }
   ],
   "source": [
    "from functools import reduce\n",
    "def digits_to_num(d1):\n",
    "       return reduce(lambda x,y: x*10+y,d1)\n",
    "print(digits_to_num([3,4,3,2,1]))\n"
   ]
  },
  {
   "cell_type": "markdown",
   "metadata": {},
   "source": [
    "# 3. Use filter function to return list of words that start with the target letter"
   ]
  },
  {
   "cell_type": "code",
   "execution_count": 23,
   "metadata": {},
   "outputs": [
    {
     "name": "stdout",
     "output_type": "stream",
     "text": [
      "['hello', 'ham', 'hi']\n"
     ]
    }
   ],
   "source": [
    "def filter_words(word_list,letter):\n",
    "    return filter(lambda word: word[0]==letter,word_list)\n",
    "print(list(filter_words(['hello','are','cats','dog','ham','hi'],'h')))"
   ]
  },
  {
   "cell_type": "markdown",
   "metadata": {},
   "source": [
    "# 4. Use zip and list comprehension to return a list of the same length where each value is the two string from L1 and L2 concatenated together with connector between them."
   ]
  },
  {
   "cell_type": "code",
   "execution_count": 25,
   "metadata": {},
   "outputs": [
    {
     "data": {
      "text/plain": [
       "['A=a', 'B=b']"
      ]
     },
     "execution_count": 25,
     "metadata": {},
     "output_type": "execute_result"
    }
   ],
   "source": [
    "def concatenate(L1,L2,connector):\n",
    "    return [word1+connector+word2 for word1,word2 in zip(L1,L2)]\n",
    "concatenate(['A','B'],['a','b'],'=')"
   ]
  },
  {
   "cell_type": "markdown",
   "metadata": {},
   "source": [
    "# 5. Use enumerate to return a dictionary which has the values of list as keys and index as value,\n",
    "Assume that a value will not appear once in the given list"
   ]
  },
  {
   "cell_type": "code",
   "execution_count": 27,
   "metadata": {},
   "outputs": [
    {
     "name": "stdout",
     "output_type": "stream",
     "text": [
      "{'ABC': 0, 'DEF': 1, 'GHI': 2, '': 3}\n"
     ]
    }
   ],
   "source": [
    "def dictionary(lst):\n",
    "    d1 = {}\n",
    "    for index,value in enumerate(lst):\n",
    "        d1[value] = index\n",
    "    return d1\n",
    "print(dictionary(['ABC','DEF','GHI','']))"
   ]
  },
  {
   "cell_type": "markdown",
   "metadata": {},
   "source": [
    "# 6. use enumerate to return the count of number of items in the list whose value equals its index"
   ]
  },
  {
   "cell_type": "code",
   "execution_count": 30,
   "metadata": {},
   "outputs": [
    {
     "name": "stdout",
     "output_type": "stream",
     "text": [
      "4\n"
     ]
    }
   ],
   "source": [
    "def counting_num(lst):\n",
    "    count = 0\n",
    "    for index,value in enumerate(lst):\n",
    "        if index==value:\n",
    "            count += 1\n",
    "    return count\n",
    "print(counting_num([0,2,2,1,5,5,6,10]))"
   ]
  }
 ],
 "metadata": {
  "kernelspec": {
   "display_name": "Python 3",
   "language": "python",
   "name": "python3"
  },
  "language_info": {
   "codemirror_mode": {
    "name": "ipython",
    "version": 3
   },
   "file_extension": ".py",
   "mimetype": "text/x-python",
   "name": "python",
   "nbconvert_exporter": "python",
   "pygments_lexer": "ipython3",
   "version": "3.7.3"
  }
 },
 "nbformat": 4,
 "nbformat_minor": 2
}
