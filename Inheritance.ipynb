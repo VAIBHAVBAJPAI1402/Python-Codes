{
 "cells": [
  {
   "cell_type": "markdown",
   "metadata": {},
   "source": [
    "# INHERITANCE"
   ]
  },
  {
   "cell_type": "code",
   "execution_count": 9,
   "metadata": {},
   "outputs": [
    {
     "name": "stdout",
     "output_type": "stream",
     "text": [
      "Animal created\n",
      "Animal created\n",
      "Dog Created\n",
      "Dog\n",
      "Bhaww\n",
      "Animal Eating\n"
     ]
    }
   ],
   "source": [
    "#concept of base class and derived class\n",
    "#increases code reusability and reduces complexity\n",
    "class Animal(object):    \n",
    "    #class object attributes\n",
    "    \n",
    "    #class methods\n",
    "    def __init__(self):\n",
    "        print('Animal created')\n",
    "    def whoAmI(self):\n",
    "        print('Animal')\n",
    "    def eating(self):\n",
    "        print('Animal Eating')\n",
    "\n",
    "class Dog(Animal): #inheriting Animal in Dog class\n",
    "    \n",
    "    def __init__(self):\n",
    "        Animal.__init__(self)\n",
    "        print('Dog Created')\n",
    "    def whoAmI(self):\n",
    "        print('Dog')\n",
    "    def barking(self):\n",
    "        print('Bhaww')\n",
    "        \n",
    "dog = Animal()\n",
    "d = Dog()\n",
    "d.whoAmI()\n",
    "d.barking()\n",
    "d.eating()   #inherited method of Animal can be accessed by derived class instance"
   ]
  }
 ],
 "metadata": {
  "kernelspec": {
   "display_name": "Python 3",
   "language": "python",
   "name": "python3"
  },
  "language_info": {
   "codemirror_mode": {
    "name": "ipython",
    "version": 3
   },
   "file_extension": ".py",
   "mimetype": "text/x-python",
   "name": "python",
   "nbconvert_exporter": "python",
   "pygments_lexer": "ipython3",
   "version": "3.7.3"
  }
 },
 "nbformat": 4,
 "nbformat_minor": 2
}
