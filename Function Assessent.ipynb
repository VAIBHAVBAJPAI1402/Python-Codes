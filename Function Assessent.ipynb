{
 "cells": [
  {
   "cell_type": "markdown",
   "metadata": {},
   "source": [
    "# Write a function that computes the volume of a sphere given its radius"
   ]
  },
  {
   "cell_type": "code",
   "execution_count": 2,
   "metadata": {},
   "outputs": [
    {
     "name": "stdout",
     "output_type": "stream",
     "text": [
      "Volume of sphere = 78.5\n"
     ]
    }
   ],
   "source": [
    "def volume(radius):\n",
    "    return 3.14*radius**2\n",
    "\n",
    "print('Volume of sphere =',volume(5))"
   ]
  },
  {
   "cell_type": "markdown",
   "metadata": {},
   "source": [
    "# Write a function that checks whether a number is in a given range(inclusive of high and low)"
   ]
  },
  {
   "cell_type": "code",
   "execution_count": 5,
   "metadata": {},
   "outputs": [
    {
     "name": "stdout",
     "output_type": "stream",
     "text": [
      "Number is in given range\n"
     ]
    }
   ],
   "source": [
    "def range_check(num,start,stop):\n",
    "    if start<=num<=stop:\n",
    "        print('Number is in given range')\n",
    "    else:\n",
    "        print('Number out of given range')\n",
    "range_check(5,5,12)"
   ]
  },
  {
   "cell_type": "markdown",
   "metadata": {},
   "source": [
    "# Write a function that accepts a string and calculates the number of upper case letter and lower case letters"
   ]
  },
  {
   "cell_type": "code",
   "execution_count": 7,
   "metadata": {},
   "outputs": [
    {
     "name": "stdout",
     "output_type": "stream",
     "text": [
      "Number of Uppercase letters = 4\n",
      "Number of Lowercase letters = 34\n"
     ]
    }
   ],
   "source": [
    "def up_case(string):\n",
    "    words = string.split(' ')\n",
    "    upcount = 0\n",
    "    for a in words:\n",
    "        for letter in a:\n",
    "            if 'A'<=letter<='Z':\n",
    "                upcount +=1\n",
    "    return upcount\n",
    "\n",
    "def low_case(string):\n",
    "    words = string.split(' ')\n",
    "    lowcount = 0\n",
    "    for e in words:\n",
    "        for letter in e:\n",
    "            if 'a'<=letter<='z':\n",
    "                lowcount +=1\n",
    "    return lowcount\n",
    "\n",
    "str = 'Hello Mr. Rogers, how are you this fine Thursday?'\n",
    "print('Number of Uppercase letters =',up_case(str))\n",
    "print('Number of Lowercase letters =',low_case(str))"
   ]
  },
  {
   "cell_type": "markdown",
   "metadata": {},
   "source": [
    "# Write a function that takes a list and returns a new list with unique elements of the first list"
   ]
  },
  {
   "cell_type": "code",
   "execution_count": 9,
   "metadata": {},
   "outputs": [
    {
     "name": "stdout",
     "output_type": "stream",
     "text": [
      "[1, 2, 3, 4, 5]\n"
     ]
    }
   ],
   "source": [
    "def unique_list(old_list):\n",
    "    new_list = []\n",
    "    for element in old_list:\n",
    "        if element in new_list:\n",
    "            continue\n",
    "        else:\n",
    "            new_list.append(element)\n",
    "    return new_list\n",
    "    \n",
    "l1 = [1,1,1,1,2,2,3,3,3,3,4,5]\n",
    "ulist = unique_list(l1)\n",
    "print(ulist)"
   ]
  },
  {
   "cell_type": "markdown",
   "metadata": {},
   "source": [
    "# Write a Python function to multiply all the numbers in a list"
   ]
  },
  {
   "cell_type": "code",
   "execution_count": 12,
   "metadata": {},
   "outputs": [
    {
     "name": "stdout",
     "output_type": "stream",
     "text": [
      "Multilication of list item = -24\n"
     ]
    }
   ],
   "source": [
    "def multiply(num_list):\n",
    "    ans = 1\n",
    "    for item in num_list:\n",
    "        ans *= item\n",
    "    print('Multilication of list item =',ans)\n",
    "    \n",
    "l1 = [1,2,3,-4]\n",
    "multiply(l1)"
   ]
  },
  {
   "cell_type": "markdown",
   "metadata": {},
   "source": [
    "# Write a function that checks whether a passed string is palindrome or not"
   ]
  },
  {
   "cell_type": "code",
   "execution_count": 18,
   "metadata": {},
   "outputs": [
    {
     "name": "stdout",
     "output_type": "stream",
     "text": [
      "121 is a palindrome\n"
     ]
    }
   ],
   "source": [
    "def palindrome(string):\n",
    "    rev = string[::-1]\n",
    "    if rev == string:\n",
    "        print(string,'is a palindrome')\n",
    "    else:\n",
    "        print(string,'is not a palindrome')\n",
    "str1 = '121'\n",
    "palindrome(str1)"
   ]
  },
  {
   "cell_type": "markdown",
   "metadata": {},
   "source": [
    "# Write a function to check whether a string is pangram or not"
   ]
  },
  {
   "cell_type": "code",
   "execution_count": 28,
   "metadata": {},
   "outputs": [
    {
     "name": "stdout",
     "output_type": "stream",
     "text": [
      "Pangram\n"
     ]
    }
   ],
   "source": [
    "\"\"\"Pangrams are words or sentences containing every letter of alphabet at least once\"\"\"\n",
    "import string\n",
    "def pangram(str1,alphabet=string.ascii_lowercase):\n",
    "    letters = []\n",
    "    for item in alphabet:\n",
    "        letters.append(item)\n",
    "    for item in str1:\n",
    "        if item in letters:\n",
    "            letters.remove(item)\n",
    "    if letters != []:\n",
    "        print('Not a pangram')\n",
    "    else:\n",
    "        print('Pangram')\n",
    "        \n",
    "pangram('The quick brown fox jumps over the lazy dog')\n",
    "    "
   ]
  }
 ],
 "metadata": {
  "kernelspec": {
   "display_name": "Python 3",
   "language": "python",
   "name": "python3"
  },
  "language_info": {
   "codemirror_mode": {
    "name": "ipython",
    "version": 3
   },
   "file_extension": ".py",
   "mimetype": "text/x-python",
   "name": "python",
   "nbconvert_exporter": "python",
   "pygments_lexer": "ipython3",
   "version": "3.7.3"
  }
 },
 "nbformat": 4,
 "nbformat_minor": 2
}
