{
 "cells": [
  {
   "cell_type": "markdown",
   "metadata": {},
   "source": [
    "# FOR LOOPS"
   ]
  },
  {
   "cell_type": "raw",
   "metadata": {},
   "source": [
    "Syntax : \n",
    "    for item in object:\n",
    "        statements to do stuff"
   ]
  },
  {
   "cell_type": "code",
   "execution_count": 6,
   "metadata": {},
   "outputs": [
    {
     "name": "stdout",
     "output_type": "stream",
     "text": [
      "1\n",
      "2\n",
      "3\n",
      "4\n",
      "5\n",
      "changing end character-------\n",
      "1\t2\t3\t4\t5\t"
     ]
    }
   ],
   "source": [
    "'''print() method ends with a new line character. \n",
    "We can also change this by specifying end=\"end character\"\n",
    "'''\n",
    "#iterating through a list\n",
    "l = [1,2,3,4,5]\n",
    "for element in l:\n",
    "    print(element)\n",
    "print('changing end character-------')\n",
    "for item in l:\n",
    "    print(item,end=\"\\t\")"
   ]
  },
  {
   "cell_type": "code",
   "execution_count": 11,
   "metadata": {},
   "outputs": [
    {
     "name": "stdout",
     "output_type": "stream",
     "text": [
      "1 is an odd number\n",
      "2 is an even number\n",
      "3 is an odd number\n",
      "4 is an even number\n",
      "5 is an odd number\n"
     ]
    }
   ],
   "source": [
    "for num in l:\n",
    "    if num%2!=0:\n",
    "        print(\"{x} is an odd number\".format(x=num))\n",
    "    else:\n",
    "        print(\"{x} is an even number\".format(x=num))"
   ]
  },
  {
   "cell_type": "code",
   "execution_count": 12,
   "metadata": {},
   "outputs": [
    {
     "name": "stdout",
     "output_type": "stream",
     "text": [
      "Sum of items = 15\n"
     ]
    }
   ],
   "source": [
    "#sum of all elements in a list\n",
    "sum = 0\n",
    "for item in l:\n",
    "    sum +=item\n",
    "print(\"Sum of items = %s\" %sum)"
   ]
  },
  {
   "cell_type": "code",
   "execution_count": 15,
   "metadata": {},
   "outputs": [
    {
     "name": "stdout",
     "output_type": "stream",
     "text": [
      "a\n",
      "b\n",
      "c\n",
      "d\n",
      "e\n",
      "f\n",
      "g\n"
     ]
    }
   ],
   "source": [
    "#iterating through a string\n",
    "str = 'abcdefg'\n",
    "for letter in str:\n",
    "    print(letter)"
   ]
  },
  {
   "cell_type": "code",
   "execution_count": 16,
   "metadata": {},
   "outputs": [
    {
     "name": "stdout",
     "output_type": "stream",
     "text": [
      "1\n",
      "2\n",
      "3\n",
      "4\n",
      "5\n"
     ]
    }
   ],
   "source": [
    "#iterating through a tuple\n",
    "tup = (1,2,3,4,5)\n",
    "for item in tup:\n",
    "    print(item)"
   ]
  },
  {
   "cell_type": "code",
   "execution_count": 22,
   "metadata": {},
   "outputs": [
    {
     "name": "stdout",
     "output_type": "stream",
     "text": [
      "1\n",
      "2\n",
      "3\n",
      "4\n",
      "5\n",
      "6\n",
      "Other method :\n",
      "1\n",
      "2\n",
      "3\n",
      "4\n",
      "5\n",
      "6\n"
     ]
    }
   ],
   "source": [
    "#iterating through a list of tuples\n",
    "nes = [(1,2),(3,4),(5,6)]\n",
    "for a in nes:\n",
    "    for val in a:\n",
    "        print(val)\n",
    "print('Other method :')    \n",
    "#other way\n",
    "for (t1,t2) in nes:\n",
    "    print(t1)\n",
    "    print(t2)"
   ]
  },
  {
   "cell_type": "code",
   "execution_count": 24,
   "metadata": {},
   "outputs": [
    {
     "name": "stdout",
     "output_type": "stream",
     "text": [
      "k1\n",
      "k2\n",
      "k3\n"
     ]
    },
    {
     "data": {
      "text/plain": [
       "'method of iterating through a dictionary is different\\nfor this we use items() method'"
      ]
     },
     "execution_count": 24,
     "metadata": {},
     "output_type": "execute_result"
    }
   ],
   "source": [
    "dict = {'k1':1,'k2':2,'k3':3}\n",
    "for item in dict:\n",
    "    print(item) #this only prints keys\n",
    "'''method of iterating through a dictionary is different\n",
    "for this we use items() method'''"
   ]
  },
  {
   "cell_type": "code",
   "execution_count": 26,
   "metadata": {},
   "outputs": [
    {
     "name": "stdout",
     "output_type": "stream",
     "text": [
      "Key :k1  Value :1\n",
      "Key :k2  Value :2\n",
      "Key :k3  Value :3\n"
     ]
    }
   ],
   "source": [
    "for k,v in dict.items():\n",
    "    print('Key :{x}  Value :{y}'.format(x=k,y=v))"
   ]
  }
 ],
 "metadata": {
  "kernelspec": {
   "display_name": "Python 3",
   "language": "python",
   "name": "python3"
  },
  "language_info": {
   "codemirror_mode": {
    "name": "ipython",
    "version": 3
   },
   "file_extension": ".py",
   "mimetype": "text/x-python",
   "name": "python",
   "nbconvert_exporter": "python",
   "pygments_lexer": "ipython3",
   "version": "3.7.3"
  }
 },
 "nbformat": 4,
 "nbformat_minor": 2
}
