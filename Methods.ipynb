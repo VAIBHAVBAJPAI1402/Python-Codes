{
 "cells": [
  {
   "cell_type": "markdown",
   "metadata": {},
   "source": [
    "# METHODS"
   ]
  },
  {
   "cell_type": "code",
   "execution_count": 2,
   "metadata": {},
   "outputs": [
    {
     "data": {
      "text/plain": [
       "[1, 2, 3, 4, 5, 6]"
      ]
     },
     "execution_count": 2,
     "metadata": {},
     "output_type": "execute_result"
    }
   ],
   "source": [
    "l = [1,2,3,4,5]\n",
    "l.append(6)\n",
    "l"
   ]
  },
  {
   "cell_type": "code",
   "execution_count": 4,
   "metadata": {},
   "outputs": [
    {
     "name": "stdout",
     "output_type": "stream",
     "text": [
      "1\n"
     ]
    }
   ],
   "source": [
    "print(l.count(3))"
   ]
  },
  {
   "cell_type": "markdown",
   "metadata": {},
   "source": [
    "# User defined function"
   ]
  },
  {
   "cell_type": "code",
   "execution_count": 8,
   "metadata": {},
   "outputs": [
    {
     "name": "stdout",
     "output_type": "stream",
     "text": [
      "Function 1 has been called\n"
     ]
    }
   ],
   "source": [
    "def function1():\n",
    "    print('Function 1 has been called')\n",
    "    pass\n",
    "\n",
    "#calling the function\n",
    "function1()"
   ]
  },
  {
   "cell_type": "markdown",
   "metadata": {},
   "source": [
    "# Parameterised functions"
   ]
  },
  {
   "cell_type": "code",
   "execution_count": 9,
   "metadata": {},
   "outputs": [
    {
     "name": "stdout",
     "output_type": "stream",
     "text": [
      "Addition of numbers = 5\n"
     ]
    }
   ],
   "source": [
    "def my_addition(arg1,arg2):\n",
    "    add = arg1 + arg2\n",
    "    print('Addition of numbers = %s' %add)\n",
    "    \n",
    "my_addition(2,3)"
   ]
  },
  {
   "cell_type": "markdown",
   "metadata": {},
   "source": [
    "# Return keyword"
   ]
  },
  {
   "cell_type": "code",
   "execution_count": 14,
   "metadata": {},
   "outputs": [
    {
     "name": "stdout",
     "output_type": "stream",
     "text": [
      "Sum = five six\n"
     ]
    }
   ],
   "source": [
    "def addition(arg1,arg2):\n",
    "    return arg1+arg2\n",
    "\n",
    "add = addition('five',' six')\n",
    "print(\"Sum =\",add)"
   ]
  },
  {
   "cell_type": "markdown",
   "metadata": {},
   "source": [
    "# check if a number is prime or not"
   ]
  },
  {
   "cell_type": "code",
   "execution_count": 24,
   "metadata": {},
   "outputs": [
    {
     "name": "stdout",
     "output_type": "stream",
     "text": [
      "13  is prime\n"
     ]
    }
   ],
   "source": [
    "#triple double quotes define the doc string; very useful\n",
    "def prime(num):\n",
    "    \"\"\"\n",
    "    Input: number\n",
    "    Outpur: return whether number is prime or not\n",
    "    \"\"\"\n",
    "    flag=0\n",
    "    for i in range(2,num):\n",
    "        if num%i==0:\n",
    "            flag=1\n",
    "    if flag==0:\n",
    "        print(num,' is prime')\n",
    "    else:\n",
    "        print(num,' is composite')\n",
    "\n",
    "prime(13)"
   ]
  }
 ],
 "metadata": {
  "kernelspec": {
   "display_name": "Python 3",
   "language": "python",
   "name": "python3"
  },
  "language_info": {
   "codemirror_mode": {
    "name": "ipython",
    "version": 3
   },
   "file_extension": ".py",
   "mimetype": "text/x-python",
   "name": "python",
   "nbconvert_exporter": "python",
   "pygments_lexer": "ipython3",
   "version": "3.7.3"
  }
 },
 "nbformat": 4,
 "nbformat_minor": 2
}
