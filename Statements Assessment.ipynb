{
 "cells": [
  {
   "cell_type": "markdown",
   "metadata": {},
   "source": [
    "# ASSESSMENT ON STATEMENTS IN PYTHON"
   ]
  },
  {
   "cell_type": "code",
   "execution_count": 1,
   "metadata": {},
   "outputs": [
    {
     "name": "stdout",
     "output_type": "stream",
     "text": [
      "['Print', 'only', 'the', 'words', 'that', 'start', 'with', 's', 'in', 'this', 'sentence']\n"
     ]
    }
   ],
   "source": [
    "#print out the letters that start with 's'\n",
    "\n",
    "string = 'Print only the words that start with s in this sentence' \n",
    "\n",
    "list1 = string.split(' ')\n",
    "print(list1)"
   ]
  },
  {
   "cell_type": "code",
   "execution_count": 13,
   "metadata": {},
   "outputs": [
    {
     "name": "stdout",
     "output_type": "stream",
     "text": [
      "words\n",
      "start\n",
      "s\n",
      "this\n",
      "sentence\n"
     ]
    }
   ],
   "source": [
    "for i in list1:\n",
    "    for letter in i:\n",
    "        if letter=='s':\n",
    "            print(i)\n",
    "        else:\n",
    "            continue\n",
    "\n"
   ]
  },
  {
   "cell_type": "markdown",
   "metadata": {},
   "source": [
    "# Print all the even numbers from 0 to 10"
   ]
  },
  {
   "cell_type": "code",
   "execution_count": 15,
   "metadata": {},
   "outputs": [
    {
     "name": "stdout",
     "output_type": "stream",
     "text": [
      "[0, 2, 4, 6, 8, 10]\n"
     ]
    }
   ],
   "source": [
    "even = [num for num in range(0,11) if num%2==0]\n",
    "print(even)"
   ]
  },
  {
   "cell_type": "markdown",
   "metadata": {},
   "source": [
    "# create a list of all the numbers between 1 and 50 that are divisible by 3 using list comprehensions\n"
   ]
  },
  {
   "cell_type": "code",
   "execution_count": 18,
   "metadata": {},
   "outputs": [
    {
     "name": "stdout",
     "output_type": "stream",
     "text": [
      "[3, 6, 9, 12, 15, 18, 21, 24, 27, 30, 33, 36, 39, 42, 45, 48]\n"
     ]
    }
   ],
   "source": [
    "list1 = [num for num in range(1,51) if num%3==0]\n",
    "print(list1)"
   ]
  },
  {
   "cell_type": "markdown",
   "metadata": {},
   "source": [
    "# Go through the string below and if the length of a word is even print \"even\"\n"
   ]
  },
  {
   "cell_type": "code",
   "execution_count": 26,
   "metadata": {},
   "outputs": [
    {
     "name": "stdout",
     "output_type": "stream",
     "text": [
      "Printing words which has even length -----\n",
      "word\n",
      "in\n",
      "this\n",
      "sentence\n",
      "that\n",
      "an\n",
      "even\n",
      "number\n",
      "of\n"
     ]
    }
   ],
   "source": [
    "str = 'Print every word in this sentence that has an even number of letters'\n",
    "list1 = str.split(' ')\n",
    "\n",
    "print('Printing words which has even length -----')\n",
    "length = 0\n",
    "for word in list1:\n",
    "    length = 0\n",
    "    for i in word:\n",
    "        length +=1\n",
    "    if length%2==0:\n",
    "        print(word)"
   ]
  },
  {
   "cell_type": "markdown",
   "metadata": {},
   "source": [
    "# WAP that prints intergers from 1 to 100.\n",
    "For multiples of 3 print \n",
    "'Fizz', for multiples of 5 print 'Buzz'. For numbers which are multiples \n",
    "of both 3 and 5 print \"FizzBuzz\"\n"
   ]
  },
  {
   "cell_type": "code",
   "execution_count": 34,
   "metadata": {},
   "outputs": [
    {
     "name": "stdout",
     "output_type": "stream",
     "text": [
      "3 - Fizz\n",
      "5 - FizzBuzz\n",
      "6 - Fizz\n",
      "9 - Fizz\n",
      "10 - FizzBuzz\n",
      "12 - Fizz\n",
      "15 - Fizz\n",
      "18 - Fizz\n",
      "20 - FizzBuzz\n",
      "21 - Fizz\n",
      "24 - Fizz\n",
      "25 - FizzBuzz\n",
      "27 - Fizz\n",
      "30 - Fizz\n",
      "33 - Fizz\n",
      "35 - FizzBuzz\n",
      "36 - Fizz\n",
      "39 - Fizz\n",
      "40 - FizzBuzz\n",
      "42 - Fizz\n",
      "45 - Fizz\n",
      "48 - Fizz\n",
      "50 - FizzBuzz\n",
      "51 - Fizz\n",
      "54 - Fizz\n",
      "55 - FizzBuzz\n",
      "57 - Fizz\n",
      "60 - Fizz\n",
      "63 - Fizz\n",
      "65 - FizzBuzz\n",
      "66 - Fizz\n",
      "69 - Fizz\n",
      "70 - FizzBuzz\n",
      "72 - Fizz\n",
      "75 - Fizz\n",
      "78 - Fizz\n",
      "80 - FizzBuzz\n",
      "81 - Fizz\n",
      "84 - Fizz\n",
      "85 - FizzBuzz\n",
      "87 - Fizz\n",
      "90 - Fizz\n",
      "93 - Fizz\n",
      "95 - FizzBuzz\n",
      "96 - Fizz\n",
      "99 - Fizz\n",
      "100 - FizzBuzz\n"
     ]
    }
   ],
   "source": [
    "for num in range(1,101):\n",
    "    if num%3 and num%5 ==0:\n",
    "        print('{x} - FizzBuzz'.format(x=num))\n",
    "    elif num%3==0:\n",
    "        print('{x} - Fizz'.format(x=num))\n",
    "    elif num%5==0:\n",
    "        print('{x} - Buzz'.format(x=num))"
   ]
  },
  {
   "cell_type": "markdown",
   "metadata": {},
   "source": [
    "# Use list comprehensions to create a list of the first letters of every word in the string"
   ]
  },
  {
   "cell_type": "code",
   "execution_count": 36,
   "metadata": {},
   "outputs": [
    {
     "name": "stdout",
     "output_type": "stream",
     "text": [
      "['C', 'a', 'l', 'o', 't', 'f', 'l', 'o', 'e', 'w', 'i', 't', 's']\n"
     ]
    }
   ],
   "source": [
    "str = 'Create a list of the first letters of every word in this string'\n",
    "list1 = str.split(' ')\n",
    "l1 = [num[0] for num in list1]\n",
    "print(l1)"
   ]
  }
 ],
 "metadata": {
  "kernelspec": {
   "display_name": "Python 3",
   "language": "python",
   "name": "python3"
  },
  "language_info": {
   "codemirror_mode": {
    "name": "ipython",
    "version": 3
   },
   "file_extension": ".py",
   "mimetype": "text/x-python",
   "name": "python",
   "nbconvert_exporter": "python",
   "pygments_lexer": "ipython3",
   "version": "3.7.3"
  }
 },
 "nbformat": 4,
 "nbformat_minor": 2
}
