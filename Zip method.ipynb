{
 "cells": [
  {
   "cell_type": "markdown",
   "metadata": {},
   "source": [
    "# ZIP()"
   ]
  },
  {
   "cell_type": "code",
   "execution_count": 3,
   "metadata": {},
   "outputs": [
    {
     "name": "stdout",
     "output_type": "stream",
     "text": [
      "1 - 4\n",
      "2 - 5\n",
      "3 - 6\n"
     ]
    }
   ],
   "source": [
    "x = [1,2,3]\n",
    "y = [4,5,6]\n",
    "tup_lst = zip(x,y)\n",
    "#zip creates tuples for each value at same index in both the lists\n",
    "for (x,y) in tup_lst:\n",
    "    print(x,'-',y)"
   ]
  },
  {
   "cell_type": "code",
   "execution_count": 4,
   "metadata": {},
   "outputs": [],
   "source": [
    "#find largest number from elements of these two lists that are at same index\n",
    "a = [1,2,3,4,5]\n",
    "b = [2,2,10,1,1]"
   ]
  },
  {
   "cell_type": "code",
   "execution_count": 5,
   "metadata": {},
   "outputs": [
    {
     "name": "stdout",
     "output_type": "stream",
     "text": [
      "2\n",
      "2\n",
      "10\n",
      "4\n",
      "5\n"
     ]
    }
   ],
   "source": [
    "for pair in zip(a,b):\n",
    "    print(max(pair))"
   ]
  },
  {
   "cell_type": "code",
   "execution_count": 8,
   "metadata": {},
   "outputs": [
    {
     "name": "stdout",
     "output_type": "stream",
     "text": [
      "2\n",
      "2\n",
      "10\n",
      "4\n",
      "5\n"
     ]
    }
   ],
   "source": [
    "#using map\n",
    "abc = map(lambda pair: max(pair), zip(a,b))\n",
    "for value in abc:\n",
    "    print(value)"
   ]
  },
  {
   "cell_type": "code",
   "execution_count": 9,
   "metadata": {},
   "outputs": [
    {
     "name": "stdout",
     "output_type": "stream",
     "text": [
      "4\n",
      "5\n",
      "6\n"
     ]
    }
   ],
   "source": [
    "#for unequal size lists or tuples\n",
    "x = [1,2,3]\n",
    "y = [4,5,6,7,8]\n",
    "#in this case we go only upto smallest number of indeices available\n",
    "#in this case, only upto 3 in list x\n",
    "ans = map(lambda pair: max(pair), zip(x,y))\n",
    "for val in ans:\n",
    "    print(val)"
   ]
  },
  {
   "cell_type": "code",
   "execution_count": 13,
   "metadata": {},
   "outputs": [
    {
     "name": "stdout",
     "output_type": "stream",
     "text": [
      "(('a', 1), ('c', 4))\n",
      "(('b', 2), ('d', 5))\n"
     ]
    }
   ],
   "source": [
    "#for dictionaries\n",
    "d1 = {'a':1,'b':2}\n",
    "d2 = {'c':4,'d':5}\n",
    "comb = zip(d1.items(),d2.items())\n",
    "#to zip keys of d1 with values of d2 : zip(d1,d2.items())\n",
    "#similarly for leys of d2 and values of d1\n",
    "for ele in comb:\n",
    "    print(ele)"
   ]
  }
 ],
 "metadata": {
  "kernelspec": {
   "display_name": "Python 3",
   "language": "python",
   "name": "python3"
  },
  "language_info": {
   "codemirror_mode": {
    "name": "ipython",
    "version": 3
   },
   "file_extension": ".py",
   "mimetype": "text/x-python",
   "name": "python",
   "nbconvert_exporter": "python",
   "pygments_lexer": "ipython3",
   "version": "3.7.3"
  }
 },
 "nbformat": 4,
 "nbformat_minor": 2
}
