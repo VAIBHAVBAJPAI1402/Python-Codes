{
 "cells": [
  {
   "cell_type": "markdown",
   "metadata": {},
   "source": [
    "# Check whether a string is pangram or not"
   ]
  },
  {
   "cell_type": "raw",
   "metadata": {},
   "source": [
    "Pangram is a string, pattern or sequence that contains all the alphabets of english literature"
   ]
  },
  {
   "cell_type": "code",
   "execution_count": 1,
   "metadata": {},
   "outputs": [
    {
     "name": "stdout",
     "output_type": "stream",
     "text": [
      "Pangram\n"
     ]
    }
   ],
   "source": [
    "import string\n",
    "\n",
    "def pangram(str1,alphabet=string.ascii_lowercase):\n",
    "    letters = []\n",
    "    for item in alphabet:\n",
    "        letters.append(item)\n",
    "    for item in str1:\n",
    "        if item in letters:\n",
    "            letters.remove(item)\n",
    "    if letters != []:\n",
    "        print('Not a pangram')\n",
    "    else:\n",
    "        print('Pangram')\n",
    "     \n",
    "#calling of function\n",
    "pangram('The quick brown fox jumps over the lazy dog')"
   ]
  }
 ],
 "metadata": {
  "kernelspec": {
   "display_name": "Python 3",
   "language": "python",
   "name": "python3"
  },
  "language_info": {
   "codemirror_mode": {
    "name": "ipython",
    "version": 3
   },
   "file_extension": ".py",
   "mimetype": "text/x-python",
   "name": "python",
   "nbconvert_exporter": "python",
   "pygments_lexer": "ipython3",
   "version": "3.7.3"
  }
 },
 "nbformat": 4,
 "nbformat_minor": 2
}
