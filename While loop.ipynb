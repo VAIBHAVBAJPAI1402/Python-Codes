{
 "cells": [
  {
   "cell_type": "markdown",
   "metadata": {},
   "source": [
    "# While loop"
   ]
  },
  {
   "cell_type": "code",
   "execution_count": 3,
   "metadata": {},
   "outputs": [
    {
     "name": "stdout",
     "output_type": "stream",
     "text": [
      "value of a is  0\n",
      "value of a is  1\n",
      "value of a is  2\n",
      "value of a is  3\n",
      "value of a is  4\n",
      "value of a is  5\n",
      "value of a is  6\n",
      "value of a is  7\n",
      "value of a is  8\n",
      "value of a is  9\n"
     ]
    }
   ],
   "source": [
    "a = 0\n",
    "while a<10:\n",
    "    print('value of a is ',a)\n",
    "    a += 1"
   ]
  },
  {
   "cell_type": "code",
   "execution_count": 4,
   "metadata": {},
   "outputs": [
    {
     "name": "stdout",
     "output_type": "stream",
     "text": [
      "value of a is  0\n",
      "value of a is  1\n",
      "value of a is  2\n",
      "value of a is  3\n",
      "value of a is  4\n",
      "value of a is  5\n",
      "value of a is  6\n",
      "value of a is  7\n",
      "value of a is  8\n",
      "value of a is  9\n",
      "All done\n"
     ]
    }
   ],
   "source": [
    "#adding else statement in while loop\n",
    "a = 0\n",
    "while a<10:\n",
    "    print('value of a is ',a)\n",
    "    a += 1\n",
    "else:\n",
    "    print('All done')"
   ]
  },
  {
   "cell_type": "code",
   "execution_count": 6,
   "metadata": {},
   "outputs": [
    {
     "name": "stdout",
     "output_type": "stream",
     "text": [
      "2\n"
     ]
    }
   ],
   "source": [
    "#break , continue and pass statements\n",
    "l = [1,2,3,4,5] \n",
    "for item in l:\n",
    "    if item%2==0:\n",
    "        print(item)\n",
    "        break\n",
    "    else:\n",
    "        continue\n",
    "#pass does nothing at all"
   ]
  }
 ],
 "metadata": {
  "kernelspec": {
   "display_name": "Python 3",
   "language": "python",
   "name": "python3"
  },
  "language_info": {
   "codemirror_mode": {
    "name": "ipython",
    "version": 3
   },
   "file_extension": ".py",
   "mimetype": "text/x-python",
   "name": "python",
   "nbconvert_exporter": "python",
   "pygments_lexer": "ipython3",
   "version": "3.7.3"
  }
 },
 "nbformat": 4,
 "nbformat_minor": 2
}
