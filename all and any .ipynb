{
 "cells": [
  {
   "cell_type": "markdown",
   "metadata": {},
   "source": [
    "# all() and any()"
   ]
  },
  {
   "cell_type": "raw",
   "metadata": {},
   "source": [
    "all checks if every element in the iterable is True or the iterable is empty and returns False if any element is False \n",
    "definition: \n",
    "    def all(iterable):\n",
    "        for item in iterable:\n",
    "            if not item:\n",
    "                return False\n",
    "        return True"
   ]
  },
  {
   "cell_type": "raw",
   "metadata": {},
   "source": [
    "any() returns True if any of the element is True and returns False if all elements are False or the iterable is empty\n",
    "definition:\n",
    "    def any(iterable):\n",
    "        for item in iterable:\n",
    "            if item:\n",
    "                return True\n",
    "        return False"
   ]
  },
  {
   "cell_type": "code",
   "execution_count": 2,
   "metadata": {},
   "outputs": [
    {
     "data": {
      "text/plain": [
       "False"
      ]
     },
     "execution_count": 2,
     "metadata": {},
     "output_type": "execute_result"
    }
   ],
   "source": [
    "#example\n",
    "lst = [True,True,False,True]\n",
    "all(lst)\n",
    "#returns False as every element of the list is not True"
   ]
  },
  {
   "cell_type": "code",
   "execution_count": 4,
   "metadata": {},
   "outputs": [
    {
     "data": {
      "text/plain": [
       "True"
      ]
     },
     "execution_count": 4,
     "metadata": {},
     "output_type": "execute_result"
    }
   ],
   "source": [
    "any(lst)\n",
    "#returns True because atleast one element is True"
   ]
  }
 ],
 "metadata": {
  "kernelspec": {
   "display_name": "Python 3",
   "language": "python",
   "name": "python3"
  },
  "language_info": {
   "codemirror_mode": {
    "name": "ipython",
    "version": 3
   },
   "file_extension": ".py",
   "mimetype": "text/x-python",
   "name": "python",
   "nbconvert_exporter": "python",
   "pygments_lexer": "ipython3",
   "version": "3.7.3"
  }
 },
 "nbformat": 4,
 "nbformat_minor": 2
}
