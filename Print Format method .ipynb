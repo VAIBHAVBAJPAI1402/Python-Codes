{
 "cells": [
  {
   "cell_type": "markdown",
   "metadata": {},
   "source": [
    "# Print Formatting"
   ]
  },
  {
   "cell_type": "code",
   "execution_count": 2,
   "metadata": {},
   "outputs": [
    {
     "name": "stdout",
     "output_type": "stream",
     "text": [
      "Print string here: This is a string\n",
      "Number is: 100.01\n"
     ]
    }
   ],
   "source": [
    "#transforming the strings, works for numbers also\n",
    "\n",
    "s = 'This is a string'\n",
    "print('Print string here: %s' %(s))\n",
    "\n",
    "x=100.01\n",
    "print('Number is: %s' %(x))"
   ]
  },
  {
   "cell_type": "code",
   "execution_count": 6,
   "metadata": {},
   "outputs": [
    {
     "name": "stdout",
     "output_type": "stream",
     "text": [
      "Floating point number: 123.13\n"
     ]
    }
   ],
   "source": [
    "#transforming floating point numbers\n",
    "\n",
    "'''first digit after % tells minimum number of digits to be shown\n",
    "before decimal point and digits after decimal point tell how\n",
    "much digits to show after decimal'''\n",
    "\n",
    "print('Floating point number: %1.2f' %(123.13213))"
   ]
  },
  {
   "cell_type": "code",
   "execution_count": 11,
   "metadata": {},
   "outputs": [
    {
     "name": "stdout",
     "output_type": "stream",
     "text": [
      "Floating number:      12.12\n"
     ]
    }
   ],
   "source": [
    "#inserts spaces if specified number of digits are not available in value\n",
    "print('Floating number: %10.2f' %(12.123))"
   ]
  },
  {
   "cell_type": "code",
   "execution_count": 7,
   "metadata": {},
   "outputs": [
    {
     "name": "stdout",
     "output_type": "stream",
     "text": [
      "Convert number to string 12\n"
     ]
    }
   ],
   "source": [
    "#convertng any python object to string\n",
    "print('Convert number to string %s' %(12))"
   ]
  },
  {
   "cell_type": "code",
   "execution_count": 8,
   "metadata": {},
   "outputs": [
    {
     "name": "stdout",
     "output_type": "stream",
     "text": [
      "First :123, Second :Hello, Third :123.55\n"
     ]
    }
   ],
   "source": [
    "#multiple object conversion ; same can be done through %r\n",
    "print('First :%s, Second :%s, Third :%s' %(123,'Hello',123.55))"
   ]
  },
  {
   "cell_type": "code",
   "execution_count": 10,
   "metadata": {},
   "outputs": [
    {
     "name": "stdout",
     "output_type": "stream",
     "text": [
      "First :hello, Second :me, Third :hello\n"
     ]
    }
   ],
   "source": [
    "#alternate way\n",
    "#x is any arbitrary variable\n",
    "print('First :{x}, Second :{y}, Third :{x}'.format(x=\"hello\",y=\"me\"))"
   ]
  },
  {
   "cell_type": "code",
   "execution_count": null,
   "metadata": {},
   "outputs": [],
   "source": []
  }
 ],
 "metadata": {
  "kernelspec": {
   "display_name": "Python 3",
   "language": "python",
   "name": "python3"
  },
  "language_info": {
   "codemirror_mode": {
    "name": "ipython",
    "version": 3
   },
   "file_extension": ".py",
   "mimetype": "text/x-python",
   "name": "python",
   "nbconvert_exporter": "python",
   "pygments_lexer": "ipython3",
   "version": "3.7.3"
  }
 },
 "nbformat": 4,
 "nbformat_minor": 2
}
